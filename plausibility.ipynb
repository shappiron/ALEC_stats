{
 "cells": [
  {
   "cell_type": "code",
   "execution_count": 1,
   "metadata": {},
   "outputs": [],
   "source": [
    "import numpy as np\n",
    "import matplotlib.pyplot as plt\n",
    "from scipy.optimize import curve_fit\n",
    "import pandas as pd"
   ]
  },
  {
   "cell_type": "code",
   "execution_count": 2,
   "metadata": {},
   "outputs": [],
   "source": [
    "def weighted_correlation(x, y, wx, wy):\n",
    "    mx = np.sum(wx * x) / np.sum(wx)\n",
    "    my = np.sum(wy * y) / np.sum(wy)\n",
    "    sx = np.sum(wx * (x - mx)**2) / np.sum(wx)\n",
    "    sy = np.sum(wy * (y - my)**2) / np.sum(wy)\n",
    "    sxy = np.sum(np.sqrt(wx * wy) * (x - mx) * (y - my)) / np.sum(np.sqrt(wx * wy))\n",
    "    return sxy / np.sqrt(sx * sy)\n",
    "\n",
    "def weighted_covariance(x, y, wx, wy):\n",
    "    n = x.shape[0]\n",
    "    mx = np.sum(wx * x) / np.sum(wx)\n",
    "    my = np.sum(wy * y) / np.sum(wy)\n",
    "    sxy = np.sum(np.sqrt(wx * wy) * (x - mx) * (y - my)) / np.sum(np.sqrt(wx * wy)) * n / (n - 1) #unbiased\n",
    "    return sxy \n",
    "\n",
    "def weighted_variance(x, wx):\n",
    "    n = x.shape[0]\n",
    "    mx = np.sum(wx * x) / np.sum(wx)\n",
    "    return np.sum(wx * (x - mx)**2) / np.sum(wx) * n / (n - 1) #unbiased"
   ]
  },
  {
   "cell_type": "code",
   "execution_count": 3,
   "metadata": {},
   "outputs": [],
   "source": [
    "cf = pd.read_csv('data/coef_stat.csv', index_col=0)"
   ]
  },
  {
   "cell_type": "code",
   "execution_count": 5,
   "metadata": {},
   "outputs": [],
   "source": [
    "### META REGRESSION ###\n",
    "from pymare import meta_regression\n",
    "x, y, wx, wy = cf['lmb'], cf['rho'], 1/cf['lmb_V'], 1/cf['rho_V']\n",
    "lmb_mres = meta_regression(x, wx)\n",
    "rho_mres = meta_regression(y, wy)\n",
    "lm, km = lmb_mres.to_df()['estimate'].item(), rho_mres.to_df()['estimate'].item()\n",
    "ls = weighted_variance(x, wx)\n",
    "ks = weighted_variance(y, wy)\n",
    "sxy = weighted_covariance(x, y, wx, wy)\n",
    "\n",
    "n = cf.shape[0]\n",
    "mu = np.array([lm, km])\n",
    "S = np.array([[ls, sxy], \n",
    "              [sxy, ks]])"
   ]
  },
  {
   "cell_type": "code",
   "execution_count": 8,
   "metadata": {},
   "outputs": [],
   "source": [
    "# t squared test from here https://en.wikipedia.org/wiki/Hotelling%27s_T-squared_distribution\n",
    "\n",
    "def hotteling_t2_test(xnew, mu, S, n, alpha=0.05):\n",
    "    from scipy.stats import chi2\n",
    "    p = mu.shape[0]\n",
    "    d = (xnew - mu) @ np.linalg.inv(S) @ (xnew - mu) #squared mahalanobis distance\n",
    "    pval = 1 - chi2.cdf(d, p)\n",
    "    verdict = 'Outlier!' if pval < alpha else 'Plausible!'\n",
    "    return d, pval, verdict\n"
   ]
  },
  {
   "cell_type": "code",
   "execution_count": 17,
   "metadata": {},
   "outputs": [
    {
     "name": "stdout",
     "output_type": "stream",
     "text": [
      "0 (0.351231913607348, 0.8389401107193468, 'Plausible!')\n",
      "1 (3.4564261088404957, 0.17760149078133525, 'Plausible!')\n",
      "2 (6.625824294659117, 0.036409987965231205, 'Plausible!')\n",
      "3 (4.9941903577092175, 0.08232378751522318, 'Plausible!')\n",
      "4 (0.8793011199947507, 0.6442615124974969, 'Plausible!')\n",
      "5 (1.513656399055142, 0.46915212652970706, 'Plausible!')\n",
      "6 (19.389214077059602, 6.161488737066456e-05, 'Outlier!')\n",
      "7 (1.2902493845247631, 0.5245971248258301, 'Plausible!')\n",
      "8 (2.2963821633983477, 0.31721005778551703, 'Plausible!')\n",
      "9 (3.2770040752108294, 0.1942708348433222, 'Plausible!')\n"
     ]
    }
   ],
   "source": [
    "for i, row in cf.iterrows():\n",
    "    xnew = np.array([row['lmb'], row['rho']])\n",
    "    print(i, hotteling_t2_test(xnew, mu, S, n, alpha=0.01))"
   ]
  },
  {
   "cell_type": "code",
   "execution_count": null,
   "metadata": {},
   "outputs": [],
   "source": []
  },
  {
   "cell_type": "code",
   "execution_count": null,
   "metadata": {},
   "outputs": [],
   "source": []
  },
  {
   "cell_type": "code",
   "execution_count": null,
   "metadata": {},
   "outputs": [],
   "source": []
  }
 ],
 "metadata": {
  "kernelspec": {
   "display_name": "base",
   "language": "python",
   "name": "python3"
  },
  "language_info": {
   "codemirror_mode": {
    "name": "ipython",
    "version": 3
   },
   "file_extension": ".py",
   "mimetype": "text/x-python",
   "name": "python",
   "nbconvert_exporter": "python",
   "pygments_lexer": "ipython3",
   "version": "3.9.12"
  },
  "orig_nbformat": 4
 },
 "nbformat": 4,
 "nbformat_minor": 2
}
